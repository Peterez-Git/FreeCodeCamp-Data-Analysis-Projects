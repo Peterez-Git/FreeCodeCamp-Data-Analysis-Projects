{
 "cells": [
  {
   "metadata": {},
   "cell_type": "markdown",
   "source": "# This is a python notebook that is a rough sketch of the main python file",
   "id": "bc2a70df87f1de06"
  },
  {
   "metadata": {
    "ExecuteTime": {
     "end_time": "2025-06-11T15:46:48.850465Z",
     "start_time": "2025-06-11T15:46:48.657536Z"
    }
   },
   "cell_type": "code",
   "source": [
    "import pandas as pd\n",
    "df = pd.read_csv('adult.data.csv')"
   ],
   "id": "initial_id",
   "outputs": [],
   "execution_count": 3
  },
  {
   "metadata": {
    "ExecuteTime": {
     "end_time": "2025-06-11T15:48:08.064832Z",
     "start_time": "2025-06-11T15:48:08.054689Z"
    }
   },
   "cell_type": "code",
   "source": "print(df.columns)",
   "id": "6c74f6f85c7ec915",
   "outputs": [
    {
     "name": "stdout",
     "output_type": "stream",
     "text": [
      "Index(['age', 'workclass', 'fnlwgt', 'education', 'education-num',\n",
      "       'marital-status', 'occupation', 'relationship', 'race', 'sex',\n",
      "       'capital-gain', 'capital-loss', 'hours-per-week', 'native-country',\n",
      "       'salary'],\n",
      "      dtype='object')\n"
     ]
    }
   ],
   "execution_count": 5
  },
  {
   "metadata": {
    "ExecuteTime": {
     "end_time": "2025-06-11T16:04:56.568677Z",
     "start_time": "2025-06-11T16:04:56.557088Z"
    }
   },
   "cell_type": "code",
   "source": [
    "# Finding the percentage of men\n",
    "per_men = float(df['sex'].value_counts()['Male']/len(df))\n",
    "print(per_men)"
   ],
   "id": "f0106a73aeb5ecf1",
   "outputs": [
    {
     "name": "stdout",
     "output_type": "stream",
     "text": [
      "0.6692054912318418\n"
     ]
    }
   ],
   "execution_count": 27
  },
  {
   "metadata": {
    "ExecuteTime": {
     "end_time": "2025-06-11T16:13:41.911566Z",
     "start_time": "2025-06-11T16:13:41.894496Z"
    }
   },
   "cell_type": "code",
   "source": [
    "per_bachelor = float(df.education.value_counts()['Bachelors']/len(df))\n",
    "df.education.value_counts()\n",
    "print(per_bachelor)"
   ],
   "id": "be412716d4c705cf",
   "outputs": [
    {
     "name": "stdout",
     "output_type": "stream",
     "text": [
      "0.16446055096587942\n"
     ]
    }
   ],
   "execution_count": 30
  },
  {
   "metadata": {
    "ExecuteTime": {
     "end_time": "2025-06-11T16:24:21.800466Z",
     "start_time": "2025-06-11T16:24:21.764278Z"
    }
   },
   "cell_type": "code",
   "source": [
    "higher_edu = df[df['education'].isin(['Bachelors','Masters','Doctorate'])]\n",
    "lower_edu = df[~df['education'].isin(['Bachelors','Masters','Doctorate'])]\n",
    "\n",
    "lower_edu"
   ],
   "id": "88855b3cd7b07b16",
   "outputs": [
    {
     "data": {
      "text/plain": [
       "       age         workclass  fnlwgt     education  education-num  \\\n",
       "2       38           Private  215646       HS-grad              9   \n",
       "3       53           Private  234721          11th              7   \n",
       "6       49           Private  160187           9th              5   \n",
       "7       52  Self-emp-not-inc  209642       HS-grad              9   \n",
       "10      37           Private  280464  Some-college             10   \n",
       "...    ...               ...     ...           ...            ...   \n",
       "32556   27           Private  257302    Assoc-acdm             12   \n",
       "32557   40           Private  154374       HS-grad              9   \n",
       "32558   58           Private  151910       HS-grad              9   \n",
       "32559   22           Private  201490       HS-grad              9   \n",
       "32560   52      Self-emp-inc  287927       HS-grad              9   \n",
       "\n",
       "              marital-status         occupation   relationship   race     sex  \\\n",
       "2                   Divorced  Handlers-cleaners  Not-in-family  White    Male   \n",
       "3         Married-civ-spouse  Handlers-cleaners        Husband  Black    Male   \n",
       "6      Married-spouse-absent      Other-service  Not-in-family  Black  Female   \n",
       "7         Married-civ-spouse    Exec-managerial        Husband  White    Male   \n",
       "10        Married-civ-spouse    Exec-managerial        Husband  Black    Male   \n",
       "...                      ...                ...            ...    ...     ...   \n",
       "32556     Married-civ-spouse       Tech-support           Wife  White  Female   \n",
       "32557     Married-civ-spouse  Machine-op-inspct        Husband  White    Male   \n",
       "32558                Widowed       Adm-clerical      Unmarried  White  Female   \n",
       "32559          Never-married       Adm-clerical      Own-child  White    Male   \n",
       "32560     Married-civ-spouse    Exec-managerial           Wife  White  Female   \n",
       "\n",
       "       capital-gain  capital-loss  hours-per-week native-country salary  \n",
       "2                 0             0              40  United-States  <=50K  \n",
       "3                 0             0              40  United-States  <=50K  \n",
       "6                 0             0              16        Jamaica  <=50K  \n",
       "7                 0             0              45  United-States   >50K  \n",
       "10                0             0              80  United-States   >50K  \n",
       "...             ...           ...             ...            ...    ...  \n",
       "32556             0             0              38  United-States  <=50K  \n",
       "32557             0             0              40  United-States   >50K  \n",
       "32558             0             0              40  United-States  <=50K  \n",
       "32559             0             0              20  United-States  <=50K  \n",
       "32560         15024             0              40  United-States   >50K  \n",
       "\n",
       "[25070 rows x 15 columns]"
      ],
      "text/html": [
       "<div>\n",
       "<style scoped>\n",
       "    .dataframe tbody tr th:only-of-type {\n",
       "        vertical-align: middle;\n",
       "    }\n",
       "\n",
       "    .dataframe tbody tr th {\n",
       "        vertical-align: top;\n",
       "    }\n",
       "\n",
       "    .dataframe thead th {\n",
       "        text-align: right;\n",
       "    }\n",
       "</style>\n",
       "<table border=\"1\" class=\"dataframe\">\n",
       "  <thead>\n",
       "    <tr style=\"text-align: right;\">\n",
       "      <th></th>\n",
       "      <th>age</th>\n",
       "      <th>workclass</th>\n",
       "      <th>fnlwgt</th>\n",
       "      <th>education</th>\n",
       "      <th>education-num</th>\n",
       "      <th>marital-status</th>\n",
       "      <th>occupation</th>\n",
       "      <th>relationship</th>\n",
       "      <th>race</th>\n",
       "      <th>sex</th>\n",
       "      <th>capital-gain</th>\n",
       "      <th>capital-loss</th>\n",
       "      <th>hours-per-week</th>\n",
       "      <th>native-country</th>\n",
       "      <th>salary</th>\n",
       "    </tr>\n",
       "  </thead>\n",
       "  <tbody>\n",
       "    <tr>\n",
       "      <th>2</th>\n",
       "      <td>38</td>\n",
       "      <td>Private</td>\n",
       "      <td>215646</td>\n",
       "      <td>HS-grad</td>\n",
       "      <td>9</td>\n",
       "      <td>Divorced</td>\n",
       "      <td>Handlers-cleaners</td>\n",
       "      <td>Not-in-family</td>\n",
       "      <td>White</td>\n",
       "      <td>Male</td>\n",
       "      <td>0</td>\n",
       "      <td>0</td>\n",
       "      <td>40</td>\n",
       "      <td>United-States</td>\n",
       "      <td>&lt;=50K</td>\n",
       "    </tr>\n",
       "    <tr>\n",
       "      <th>3</th>\n",
       "      <td>53</td>\n",
       "      <td>Private</td>\n",
       "      <td>234721</td>\n",
       "      <td>11th</td>\n",
       "      <td>7</td>\n",
       "      <td>Married-civ-spouse</td>\n",
       "      <td>Handlers-cleaners</td>\n",
       "      <td>Husband</td>\n",
       "      <td>Black</td>\n",
       "      <td>Male</td>\n",
       "      <td>0</td>\n",
       "      <td>0</td>\n",
       "      <td>40</td>\n",
       "      <td>United-States</td>\n",
       "      <td>&lt;=50K</td>\n",
       "    </tr>\n",
       "    <tr>\n",
       "      <th>6</th>\n",
       "      <td>49</td>\n",
       "      <td>Private</td>\n",
       "      <td>160187</td>\n",
       "      <td>9th</td>\n",
       "      <td>5</td>\n",
       "      <td>Married-spouse-absent</td>\n",
       "      <td>Other-service</td>\n",
       "      <td>Not-in-family</td>\n",
       "      <td>Black</td>\n",
       "      <td>Female</td>\n",
       "      <td>0</td>\n",
       "      <td>0</td>\n",
       "      <td>16</td>\n",
       "      <td>Jamaica</td>\n",
       "      <td>&lt;=50K</td>\n",
       "    </tr>\n",
       "    <tr>\n",
       "      <th>7</th>\n",
       "      <td>52</td>\n",
       "      <td>Self-emp-not-inc</td>\n",
       "      <td>209642</td>\n",
       "      <td>HS-grad</td>\n",
       "      <td>9</td>\n",
       "      <td>Married-civ-spouse</td>\n",
       "      <td>Exec-managerial</td>\n",
       "      <td>Husband</td>\n",
       "      <td>White</td>\n",
       "      <td>Male</td>\n",
       "      <td>0</td>\n",
       "      <td>0</td>\n",
       "      <td>45</td>\n",
       "      <td>United-States</td>\n",
       "      <td>&gt;50K</td>\n",
       "    </tr>\n",
       "    <tr>\n",
       "      <th>10</th>\n",
       "      <td>37</td>\n",
       "      <td>Private</td>\n",
       "      <td>280464</td>\n",
       "      <td>Some-college</td>\n",
       "      <td>10</td>\n",
       "      <td>Married-civ-spouse</td>\n",
       "      <td>Exec-managerial</td>\n",
       "      <td>Husband</td>\n",
       "      <td>Black</td>\n",
       "      <td>Male</td>\n",
       "      <td>0</td>\n",
       "      <td>0</td>\n",
       "      <td>80</td>\n",
       "      <td>United-States</td>\n",
       "      <td>&gt;50K</td>\n",
       "    </tr>\n",
       "    <tr>\n",
       "      <th>...</th>\n",
       "      <td>...</td>\n",
       "      <td>...</td>\n",
       "      <td>...</td>\n",
       "      <td>...</td>\n",
       "      <td>...</td>\n",
       "      <td>...</td>\n",
       "      <td>...</td>\n",
       "      <td>...</td>\n",
       "      <td>...</td>\n",
       "      <td>...</td>\n",
       "      <td>...</td>\n",
       "      <td>...</td>\n",
       "      <td>...</td>\n",
       "      <td>...</td>\n",
       "      <td>...</td>\n",
       "    </tr>\n",
       "    <tr>\n",
       "      <th>32556</th>\n",
       "      <td>27</td>\n",
       "      <td>Private</td>\n",
       "      <td>257302</td>\n",
       "      <td>Assoc-acdm</td>\n",
       "      <td>12</td>\n",
       "      <td>Married-civ-spouse</td>\n",
       "      <td>Tech-support</td>\n",
       "      <td>Wife</td>\n",
       "      <td>White</td>\n",
       "      <td>Female</td>\n",
       "      <td>0</td>\n",
       "      <td>0</td>\n",
       "      <td>38</td>\n",
       "      <td>United-States</td>\n",
       "      <td>&lt;=50K</td>\n",
       "    </tr>\n",
       "    <tr>\n",
       "      <th>32557</th>\n",
       "      <td>40</td>\n",
       "      <td>Private</td>\n",
       "      <td>154374</td>\n",
       "      <td>HS-grad</td>\n",
       "      <td>9</td>\n",
       "      <td>Married-civ-spouse</td>\n",
       "      <td>Machine-op-inspct</td>\n",
       "      <td>Husband</td>\n",
       "      <td>White</td>\n",
       "      <td>Male</td>\n",
       "      <td>0</td>\n",
       "      <td>0</td>\n",
       "      <td>40</td>\n",
       "      <td>United-States</td>\n",
       "      <td>&gt;50K</td>\n",
       "    </tr>\n",
       "    <tr>\n",
       "      <th>32558</th>\n",
       "      <td>58</td>\n",
       "      <td>Private</td>\n",
       "      <td>151910</td>\n",
       "      <td>HS-grad</td>\n",
       "      <td>9</td>\n",
       "      <td>Widowed</td>\n",
       "      <td>Adm-clerical</td>\n",
       "      <td>Unmarried</td>\n",
       "      <td>White</td>\n",
       "      <td>Female</td>\n",
       "      <td>0</td>\n",
       "      <td>0</td>\n",
       "      <td>40</td>\n",
       "      <td>United-States</td>\n",
       "      <td>&lt;=50K</td>\n",
       "    </tr>\n",
       "    <tr>\n",
       "      <th>32559</th>\n",
       "      <td>22</td>\n",
       "      <td>Private</td>\n",
       "      <td>201490</td>\n",
       "      <td>HS-grad</td>\n",
       "      <td>9</td>\n",
       "      <td>Never-married</td>\n",
       "      <td>Adm-clerical</td>\n",
       "      <td>Own-child</td>\n",
       "      <td>White</td>\n",
       "      <td>Male</td>\n",
       "      <td>0</td>\n",
       "      <td>0</td>\n",
       "      <td>20</td>\n",
       "      <td>United-States</td>\n",
       "      <td>&lt;=50K</td>\n",
       "    </tr>\n",
       "    <tr>\n",
       "      <th>32560</th>\n",
       "      <td>52</td>\n",
       "      <td>Self-emp-inc</td>\n",
       "      <td>287927</td>\n",
       "      <td>HS-grad</td>\n",
       "      <td>9</td>\n",
       "      <td>Married-civ-spouse</td>\n",
       "      <td>Exec-managerial</td>\n",
       "      <td>Wife</td>\n",
       "      <td>White</td>\n",
       "      <td>Female</td>\n",
       "      <td>15024</td>\n",
       "      <td>0</td>\n",
       "      <td>40</td>\n",
       "      <td>United-States</td>\n",
       "      <td>&gt;50K</td>\n",
       "    </tr>\n",
       "  </tbody>\n",
       "</table>\n",
       "<p>25070 rows × 15 columns</p>\n",
       "</div>"
      ]
     },
     "execution_count": 37,
     "metadata": {},
     "output_type": "execute_result"
    }
   ],
   "execution_count": 37
  },
  {
   "metadata": {
    "ExecuteTime": {
     "end_time": "2025-06-11T16:44:15.902427Z",
     "start_time": "2025-06-11T16:44:15.883506Z"
    }
   },
   "cell_type": "code",
   "source": [
    "higher_education_rich = round((len(higher_edu.query('salary == \">50K\"'))/len(higher_edu)*100),2)\n",
    "print(higher_education_rich)\n",
    "lower_education_rich = round((len(lower_edu.query('salary == \">50K\"'))/len(lower_edu)*100), 2)\n",
    "print(lower_education_rich)"
   ],
   "id": "bc784f799cfdfb44",
   "outputs": [
    {
     "name": "stdout",
     "output_type": "stream",
     "text": [
      "46.54\n",
      "17.37\n"
     ]
    }
   ],
   "execution_count": 53
  },
  {
   "metadata": {
    "ExecuteTime": {
     "end_time": "2025-06-11T17:15:31.804203Z",
     "start_time": "2025-06-11T17:15:31.783267Z"
    }
   },
   "cell_type": "code",
   "source": [
    "min_work_hours = int(df['hours-per-week'].min(skipna=True))\n",
    "# min_work_hours\n",
    "# num_min_workers = df.loc[(df['hours-per-week'] == min_work_hours) & (df['salary'] == \">50K\")]\n",
    "num_min_workers = len(df.loc[(df['hours-per-week'] == min_work_hours) & (df['salary'] == \">50K\")])/len(df.loc[(df['hours-per-week'] == min_work_hours)])\n",
    "num_min_workers"
   ],
   "id": "97132d79e299a381",
   "outputs": [
    {
     "data": {
      "text/plain": [
       "0.1"
      ]
     },
     "execution_count": 68,
     "metadata": {},
     "output_type": "execute_result"
    }
   ],
   "execution_count": 68
  },
  {
   "metadata": {
    "ExecuteTime": {
     "end_time": "2025-06-11T19:23:38.662091Z",
     "start_time": "2025-06-11T19:23:38.646474Z"
    }
   },
   "cell_type": "code",
   "source": [
    "# What country has the highest percentage of people that earn >50K?\n",
    "pk = df.query('salary == \">50K\"')['native-country'].value_counts(ascending=False, normalize=True)\n",
    "highest_earning_country = pk.index[0]\n",
    "highest_earning_country_percentage = round(pk.values[0]*100, 2)"
   ],
   "id": "6e2424285f7fada1",
   "outputs": [
    {
     "data": {
      "text/plain": [
       "array([7171,  146,   61,   44,   40,   39,   33,   30,   25,   25,   24,\n",
       "         20,   20,   18,   16,   12,   12,   12,   10,    9,    8,    7,\n",
       "          6,    6,    5,    5,    4,    4,    4,    3,    3,    3,    3,\n",
       "          2,    2,    2,    2,    2,    2,    1])"
      ]
     },
     "execution_count": 92,
     "metadata": {},
     "output_type": "execute_result"
    }
   ],
   "execution_count": 92
  },
  {
   "metadata": {
    "ExecuteTime": {
     "end_time": "2025-06-11T19:32:13.382592Z",
     "start_time": "2025-06-11T19:32:13.353636Z"
    }
   },
   "cell_type": "code",
   "source": [
    "# Identify the most popular occupation for\n",
    "    # those who earn >50K in India.\n",
    "top_IN_occupation = df.loc[(df['salary'] == \">50K\") & (df['native-country'] == \"India\")]['occupation'].value_counts(ascending=False).index[0]\n",
    "top_IN_occupation"
   ],
   "id": "a44ada47eb1e054",
   "outputs": [
    {
     "data": {
      "text/plain": [
       "occupation\n",
       "Prof-specialty      25\n",
       "Exec-managerial      8\n",
       "Other-service        2\n",
       "Tech-support         2\n",
       "Transport-moving     1\n",
       "Sales                1\n",
       "Adm-clerical         1\n",
       "Name: count, dtype: int64"
      ]
     },
     "execution_count": 94,
     "metadata": {},
     "output_type": "execute_result"
    }
   ],
   "execution_count": 94
  },
  {
   "metadata": {},
   "cell_type": "code",
   "outputs": [],
   "execution_count": null,
   "source": "",
   "id": "bcf18a95e32919a"
  }
 ],
 "metadata": {
  "kernelspec": {
   "display_name": "Python 3",
   "language": "python",
   "name": "python3"
  },
  "language_info": {
   "codemirror_mode": {
    "name": "ipython",
    "version": 2
   },
   "file_extension": ".py",
   "mimetype": "text/x-python",
   "name": "python",
   "nbconvert_exporter": "python",
   "pygments_lexer": "ipython2",
   "version": "2.7.6"
  }
 },
 "nbformat": 4,
 "nbformat_minor": 5
}
