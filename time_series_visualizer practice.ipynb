{
 "cells": [
  {
   "metadata": {},
   "cell_type": "markdown",
   "source": [
    "<dl>\n",
    "<dt> <b>Context</b></dt>\n",
    "<dd>\n",
    "For this project you will visualize time series data using a line chart, bar chart, and box plots. You will use Pandas, Matplotlib, and Seaborn to visualize a dataset containing the number of page views each day on the freeCodeCamp.org forum from 2016-05-09 to 2019-12-03. The data visualizations will help you understand the patterns in visits and identify yearly and monthly growth.\n",
    "</dd><br>\n",
    "\n",
    "\n",
    "<dt><b>Instruction</b></dt><br>\n",
    "<p style=\"margin-left: 20px;\">Use the data to complete the following tasks:</p>\n",
    "<ol><dd>\n",
    "<li>Clean the data by filtering out days when the page views were in the top 2.5% of the dataset or bottom 2.5% of the dataset.</li><br>\n",
    "\n",
    "<li>Create a draw_line_plot function that uses Matplotlib to draw a line chart similar to \"examples/Figure_1.png\". The title should be Daily freeCodeCamp Forum Page Views 5/2016-12/2019. The label on the x axis should be Date and the label on the y axis should be Page Views.</li><br>\n",
    "\n",
    "<li>Create a draw_bar_plot function that draws a bar chart similar to \"examples/Figure_2.png\". It should show average daily page views for each month grouped by year. The legend should show month labels and have a title of Months. On the chart, the label on the x axis should be Years and the label on the y axis should be Average Page Views.</li><br>\n",
    "\n",
    "<li>Create a draw_box_plot function that uses Seaborn to draw two adjacent box plots similar to \"examples/Figure_3.png\".</li><br> \n",
    "\n",
    "<li>These box plots should show how the values are distributed within a given year or month and how it compares over time.</li><br>\n",
    "\n",
    "<li>The title of the first chart should be Year-wise Box Plot (Trend) and the title of the second chart should be Month-wise Box Plot (Seasonality).</li><br>\n",
    "\n",
    "<li>Make sure the month labels on bottom start at Jan and the x and y axis are labeled correctly. The boilerplate includes commands to prepare the data.</li><br>\n",
    "\n",
    "<li>For each chart, make sure to use a copy of the data frame.</li><br>\n",
    "\n",
    "<b>NOTE:</b>    The boilerplate also includes commands to save and return the image.\n",
    "</dd></ol><br>\n",
    "\n",
    "<dt><b>Development</b></dt>\n",
    "<p>Write your code in time_series_visualizer.py. For development, you can use main.py to test your code.</p><br>\n",
    "\n",
    "<dt><b>Testing</b></dt>\n",
    "<p style=\"margin-left: 40px;\">The unit tests for this project are in test_module.py. We imported the tests from test_module.py to main.py for your convenience.</p><br>\n",
    "\n",
    "<dt><b>Submitting</b></dt>\n",
    "<p style=\"margin-left: 40px;>Copy your project's URL and submit it to freeCodeCamp.</p>\n",
    "\n",
    "</dl>\n",
    "\n",
    "\n"
   ],
   "id": "81be43b5c1d6e6ea"
  },
  {
   "metadata": {
    "ExecuteTime": {
     "end_time": "2025-06-14T03:09:07.918871Z",
     "start_time": "2025-06-14T03:09:07.912304Z"
    }
   },
   "cell_type": "code",
   "source": "",
   "id": "initial_id",
   "outputs": [],
   "execution_count": null
  }
 ],
 "metadata": {
  "kernelspec": {
   "display_name": "Python 3",
   "language": "python",
   "name": "python3"
  },
  "language_info": {
   "codemirror_mode": {
    "name": "ipython",
    "version": 2
   },
   "file_extension": ".py",
   "mimetype": "text/x-python",
   "name": "python",
   "nbconvert_exporter": "python",
   "pygments_lexer": "ipython2",
   "version": "2.7.6"
  }
 },
 "nbformat": 4,
 "nbformat_minor": 5
}
